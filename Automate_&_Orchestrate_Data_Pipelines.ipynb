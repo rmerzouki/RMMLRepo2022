{
 "cells": [
  {
   "cell_type": "code",
   "execution_count": 1,
   "id": "d4a3243a",
   "metadata": {
    "ExecuteTime": {
     "end_time": "2021-12-10T17:54:26.622938Z",
     "start_time": "2021-12-10T17:54:26.606503Z"
    }
   },
   "outputs": [
    {
     "data": {
      "text/plain": [
       "True"
      ]
     },
     "execution_count": 1,
     "metadata": {},
     "output_type": "execute_result"
    }
   ],
   "source": [
    "import os\n",
    "# For dealing with json responses we receive from the API\n",
    "from dotenv import load_dotenv\n",
    "load_dotenv()"
   ]
  },
  {
   "cell_type": "code",
   "execution_count": 2,
   "id": "7713ee5b",
   "metadata": {
    "ExecuteTime": {
     "end_time": "2021-12-10T17:54:29.547651Z",
     "start_time": "2021-12-10T17:54:29.444113Z"
    }
   },
   "outputs": [],
   "source": [
    "import requests\n",
    "\n",
    "def extract() -> dict:\n",
    "    \n",
    "    key=os.getenv('appid')\n",
    "    \n",
    "    \"\"\"Use the Open Weather Map API to fetch Paris weather data.\n",
    "    Returns:\n",
    "        dict: a JSON response of many wheather measurements.\n",
    "    \"\"\"\n",
    "    url = \"https://api.openweathermap.org/data/2.5/weather\"\n",
    "\n",
    "    # TODO: Use a real API key. You can get a free one from https://openweathermap.org/\n",
    "    response = requests.request(\n",
    "    \"GET\", url, params={\"q\": \"Paris\", \"appid\": key}\n",
    "    )\n",
    "    return response.json()"
   ]
  },
  {
   "cell_type": "code",
   "execution_count": 3,
   "id": "d4928a35",
   "metadata": {
    "ExecuteTime": {
     "end_time": "2021-12-10T17:54:32.041206Z",
     "start_time": "2021-12-10T17:54:31.931311Z"
    }
   },
   "outputs": [
    {
     "data": {
      "text/plain": [
       "{'coord': {'lon': 2.3488, 'lat': 48.8534},\n",
       " 'weather': [{'id': 803,\n",
       "   'main': 'Clouds',\n",
       "   'description': 'broken clouds',\n",
       "   'icon': '04n'}],\n",
       " 'base': 'stations',\n",
       " 'main': {'temp': 279.3,\n",
       "  'feels_like': 277.27,\n",
       "  'temp_min': 277.46,\n",
       "  'temp_max': 280.25,\n",
       "  'pressure': 1004,\n",
       "  'humidity': 76},\n",
       " 'visibility': 10000,\n",
       " 'wind': {'speed': 2.68, 'deg': 270, 'gust': 4.47},\n",
       " 'clouds': {'all': 75},\n",
       " 'dt': 1639158092,\n",
       " 'sys': {'type': 2,\n",
       "  'id': 2041230,\n",
       "  'country': 'FR',\n",
       "  'sunrise': 1639121590,\n",
       "  'sunset': 1639151639},\n",
       " 'timezone': 3600,\n",
       " 'id': 2988507,\n",
       " 'name': 'Paris',\n",
       " 'cod': 200}"
      ]
     },
     "execution_count": 3,
     "metadata": {},
     "output_type": "execute_result"
    }
   ],
   "source": [
    "extract()"
   ]
  },
  {
   "cell_type": "code",
   "execution_count": 4,
   "id": "d600daa2",
   "metadata": {
    "ExecuteTime": {
     "end_time": "2021-12-10T17:54:38.190108Z",
     "start_time": "2021-12-10T17:54:38.100928Z"
    }
   },
   "outputs": [
    {
     "data": {
      "text/plain": [
       "dict"
      ]
     },
     "execution_count": 4,
     "metadata": {},
     "output_type": "execute_result"
    }
   ],
   "source": [
    "response = extract()\n",
    "type(response)"
   ]
  },
  {
   "cell_type": "code",
   "execution_count": 5,
   "id": "fba8bc41",
   "metadata": {
    "ExecuteTime": {
     "end_time": "2021-12-10T17:54:39.870868Z",
     "start_time": "2021-12-10T17:54:39.867838Z"
    }
   },
   "outputs": [],
   "source": [
    "def transform(response: dict) -> float:\n",
    "    \"\"\"Process the response and extract windspeed information\n",
    "    Args:\n",
    "        response (dict): Response JSON from extract task\n",
    "    Returns:\n",
    "        float: Current andwind speed\n",
    "    \"\"\"\n",
    "    return response.get(\"wind\", {}).get(\"speed\", 0.0)"
   ]
  },
  {
   "cell_type": "code",
   "execution_count": 6,
   "id": "b9579051",
   "metadata": {
    "ExecuteTime": {
     "end_time": "2021-12-10T17:54:40.580788Z",
     "start_time": "2021-12-10T17:54:40.576960Z"
    }
   },
   "outputs": [
    {
     "data": {
      "text/plain": [
       "2.68"
      ]
     },
     "execution_count": 6,
     "metadata": {},
     "output_type": "execute_result"
    }
   ],
   "source": [
    "transform(response)"
   ]
  },
  {
   "cell_type": "code",
   "execution_count": 7,
   "id": "4425cc96",
   "metadata": {
    "ExecuteTime": {
     "end_time": "2021-12-10T17:54:43.699426Z",
     "start_time": "2021-12-10T17:54:43.696829Z"
    }
   },
   "outputs": [],
   "source": [
    "speed = transform(response)"
   ]
  },
  {
   "cell_type": "code",
   "execution_count": 8,
   "id": "8ecb0b02",
   "metadata": {
    "ExecuteTime": {
     "end_time": "2021-12-10T17:54:45.135296Z",
     "start_time": "2021-12-10T17:54:45.131978Z"
    }
   },
   "outputs": [],
   "source": [
    "def load(speed: float):\n",
    "    \"\"\"Append data to file\n",
    "    Args:\n",
    "        speed (float): Windspeed from transform task\n",
    "    \"\"\"\n",
    "    #'a' open for writing, appending to the end of the file if it exists\n",
    "    with open(\"windspeed.txt\", \"a\") as f:\n",
    "        f.write(str(speed) + \"\\n\")"
   ]
  },
  {
   "cell_type": "code",
   "execution_count": 9,
   "id": "58d50798",
   "metadata": {
    "ExecuteTime": {
     "end_time": "2021-12-10T17:54:46.886622Z",
     "start_time": "2021-12-10T17:54:46.884061Z"
    }
   },
   "outputs": [],
   "source": [
    "load(speed)"
   ]
  },
  {
   "cell_type": "code",
   "execution_count": 14,
   "id": "38ba82ac",
   "metadata": {
    "ExecuteTime": {
     "end_time": "2021-12-10T15:53:09.643506Z",
     "start_time": "2021-12-10T15:53:09.550687Z"
    }
   },
   "outputs": [],
   "source": [
    "if __name__ == \"__main__\":\n",
    "# Execute tasks in the right order.\n",
    "    response = extract()\n",
    "    windspeed = transform(response)\n",
    "    load(windspeed)"
   ]
  }
 ],
 "metadata": {
  "kernelspec": {
   "display_name": "Python (myenvbase)",
   "language": "python",
   "name": "base"
  },
  "language_info": {
   "codemirror_mode": {
    "name": "ipython",
    "version": 3
   },
   "file_extension": ".py",
   "mimetype": "text/x-python",
   "name": "python",
   "nbconvert_exporter": "python",
   "pygments_lexer": "ipython3",
   "version": "3.8.8"
  },
  "latex_envs": {
   "LaTeX_envs_menu_present": true,
   "autoclose": false,
   "autocomplete": true,
   "bibliofile": "biblio.bib",
   "cite_by": "apalike",
   "current_citInitial": 1,
   "eqLabelWithNumbers": true,
   "eqNumInitial": 1,
   "hotkeys": {
    "equation": "Ctrl-E",
    "itemize": "Ctrl-I"
   },
   "labels_anchors": false,
   "latex_user_defs": false,
   "report_style_numbering": false,
   "user_envs_cfg": false
  },
  "varInspector": {
   "cols": {
    "lenName": 16,
    "lenType": 16,
    "lenVar": 40
   },
   "kernels_config": {
    "python": {
     "delete_cmd_postfix": "",
     "delete_cmd_prefix": "del ",
     "library": "var_list.py",
     "varRefreshCmd": "print(var_dic_list())"
    },
    "r": {
     "delete_cmd_postfix": ") ",
     "delete_cmd_prefix": "rm(",
     "library": "var_list.r",
     "varRefreshCmd": "cat(var_dic_list()) "
    }
   },
   "types_to_exclude": [
    "module",
    "function",
    "builtin_function_or_method",
    "instance",
    "_Feature"
   ],
   "window_display": false
  }
 },
 "nbformat": 4,
 "nbformat_minor": 5
}
